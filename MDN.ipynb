{
 "cells": [
  {
   "cell_type": "code",
   "execution_count": 41,
   "metadata": {},
   "outputs": [],
   "source": [
    "from enum import Enum, auto\n",
    "\n",
    "import torch\n",
    "import torch.nn as nn\n",
    "import torch.nn.functional as F\n",
    "import numpy as np\n",
    "import torch\n",
    "import torch.nn as nn\n",
    "import torch.optim as optim\n",
    "\n",
    "\n",
    "class NoiseType(Enum):\n",
    "    DIAGONAL = auto()\n",
    "    ISOTROPIC = auto()\n",
    "    ISOTROPIC_ACROSS_CLUSTERS = auto()\n",
    "    FIXED = auto()\n",
    "\n",
    "\n",
    "class MixtureDensityNetwork(nn.Module):\n",
    "    \"\"\"\n",
    "    Mixture density network.\n",
    "\n",
    "    [ Bishop, 1994 ]\n",
    "\n",
    "    Parameters\n",
    "    ----------\n",
    "    dim_in: int; dimensionality of the covariates\n",
    "    dim_out: int; dimensionality of the response variable\n",
    "    n_components: int; number of components in the mixture model\n",
    "    \"\"\"\n",
    "    def __init__(self, dim_in, dim_out, n_components, hidden_dim, noise_type=NoiseType.DIAGONAL, fixed_noise_level=None):\n",
    "        super().__init__()\n",
    "        assert (fixed_noise_level is not None) == (noise_type is NoiseType.FIXED)\n",
    "        num_sigma_channels = {\n",
    "            NoiseType.DIAGONAL: dim_out * n_components,\n",
    "            NoiseType.ISOTROPIC: n_components,\n",
    "            NoiseType.ISOTROPIC_ACROSS_CLUSTERS: 1,\n",
    "            NoiseType.FIXED: 0,\n",
    "        }[noise_type]\n",
    "        self.dim_in, self.dim_out, self.n_components = dim_in, dim_out, n_components\n",
    "        self.noise_type, self.fixed_noise_level = noise_type, fixed_noise_level\n",
    "        self.pi_network = nn.Sequential(\n",
    "            nn.Linear(dim_in, hidden_dim),\n",
    "            nn.ReLU(),\n",
    "            nn.Linear(hidden_dim, hidden_dim),\n",
    "            nn.ReLU(),\n",
    "            nn.Linear(hidden_dim, n_components),\n",
    "        )\n",
    "        self.normal_network = nn.Sequential(\n",
    "            nn.Linear(dim_in, hidden_dim),\n",
    "            nn.ReLU(),\n",
    "            nn.Linear(hidden_dim, hidden_dim),\n",
    "            nn.ReLU(),\n",
    "            nn.Linear(hidden_dim, dim_out * n_components + num_sigma_channels)\n",
    "        )\n",
    "\n",
    "    def forward(self, x, eps=1e-6):\n",
    "        #\n",
    "        # Returns\n",
    "        # -------\n",
    "        # log_pi: (bsz, n_components)\n",
    "        # mu: (bsz, n_components, dim_out)\n",
    "        # sigma: (bsz, n_components, dim_out)\n",
    "        #\n",
    "        log_pi = torch.log_softmax(self.pi_network(x), dim=-1)\n",
    "        normal_params = self.normal_network(x)\n",
    "        mu = normal_params[..., :self.dim_out * self.n_components]\n",
    "        sigma = normal_params[..., self.dim_out * self.n_components:]\n",
    "        if self.noise_type is NoiseType.DIAGONAL:\n",
    "            sigma = torch.exp(sigma + eps)\n",
    "        if self.noise_type is NoiseType.ISOTROPIC:\n",
    "            sigma = torch.exp(sigma + eps).repeat(1, self.dim_out)\n",
    "        if self.noise_type is NoiseType.ISOTROPIC_ACROSS_CLUSTERS:\n",
    "            sigma = torch.exp(sigma + eps).repeat(1, self.n_components * self.dim_out)\n",
    "        if self.noise_type is NoiseType.FIXED:\n",
    "            sigma = torch.full_like(mu, fill_value=self.fixed_noise_level)\n",
    "        mu = mu.reshape(-1, self.n_components, self.dim_out)\n",
    "        sigma = sigma.reshape(-1, self.n_components, self.dim_out)\n",
    "        return log_pi, mu, sigma\n",
    "\n",
    "    def loss(self, x, y):\n",
    "        log_pi, mu, sigma = self.forward(x)\n",
    "        z_score = (y.unsqueeze(1) - mu) / sigma\n",
    "        normal_loglik = (\n",
    "            -0.5 * torch.einsum(\"bij,bij->bi\", z_score, z_score)\n",
    "            -torch.sum(torch.log(sigma), dim=-1)\n",
    "        )\n",
    "        loglik = torch.logsumexp(log_pi + normal_loglik, dim=-1)\n",
    "        return -loglik\n",
    "\n",
    "    def sample(self, x):\n",
    "        log_pi, mu, sigma = self.forward(x)\n",
    "        cum_pi = torch.cumsum(torch.exp(log_pi), dim=-1)\n",
    "        rvs = torch.rand(len(x), 1).to(x)\n",
    "        rand_pi = torch.searchsorted(cum_pi, rvs)\n",
    "        rand_normal = torch.randn_like(mu) * sigma + mu\n",
    "        samples = torch.take_along_dim(rand_normal, indices=rand_pi.unsqueeze(-1), dim=1).squeeze(dim=1)\n",
    "        return samples"
   ]
  },
  {
   "cell_type": "code",
   "execution_count": 42,
   "metadata": {},
   "outputs": [],
   "source": [
    "data = np.load('/Users/pipipu/Desktop/STHSL/Datasets/NYC_crime/trn.pkl',allow_pickle = True)\n",
    "row, column, time, cat = data.shape\n",
    "data = data.reshape(-1, time, cat)\n",
    "data = np.sum(data, axis = 2)\n",
    "data = data.reshape(time,row * column)\n",
    "data = torch.from_numpy(data)\n",
    "data_X = data[:-1,:]\n",
    "data_y = data[1:,:]\n"
   ]
  },
  {
   "cell_type": "code",
   "execution_count": 84,
   "metadata": {},
   "outputs": [
    {
     "name": "stdout",
     "output_type": "stream",
     "text": [
      "Epoch 11/10, Loss: 452566.8899\n",
      "Epoch 11/10, Loss: 33553.0778\n",
      "Epoch 11/10, Loss: -4580.2126\n",
      "Epoch 11/10, Loss: -9652.9138\n",
      "Epoch 11/10, Loss: -16621.4902\n",
      "Epoch 11/10, Loss: -16695.0296\n",
      "Epoch 11/10, Loss: -23851.8769\n",
      "Epoch 11/10, Loss: -29822.5250\n",
      "Epoch 11/10, Loss: -25355.4228\n",
      "Epoch 11/10, Loss: -28393.0086\n"
     ]
    }
   ],
   "source": [
    "model = MixtureDensityNetwork(row*column,row*column,2,512).double()\n",
    "# Define the loss function\n",
    "loss_function = nn.MSELoss()\n",
    "# Define the optimizer\n",
    "learning_rate = 1e-3\n",
    "optimizer = optim.Adam(model.parameters(), lr=learning_rate)\n",
    "loss_function = nn.MSELoss()\n",
    "epoch = 10\n",
    "for i in range(epoch):\n",
    "    total_loss = 0\n",
    "    for j in range(int(time/2)):\n",
    "        optimizer.zero_grad()\n",
    "        x = data_X[j,:]\n",
    "        y = data_y[j,:]\n",
    "        x = x.reshape(1,-1)\n",
    "        y = y.reshape(1,-1)\n",
    "       \n",
    "        loss = model.loss(x,y).mean()\n",
    "        loss.backward()\n",
    "        optimizer.step()\n",
    "        total_loss += loss.item()\n",
    "\n",
    "    average_loss = total_loss\n",
    "    print(f\"Epoch {epoch+1}/{epoch}, Loss: {average_loss:.4f}\")\n",
    "        "
   ]
  },
  {
   "cell_type": "code",
   "execution_count": 73,
   "metadata": {},
   "outputs": [
    {
     "data": {
      "text/plain": [
       "tensor(91669)"
      ]
     },
     "execution_count": 73,
     "metadata": {},
     "output_type": "execute_result"
    }
   ],
   "source": [
    "torch.argmax(model.sample(data_X).reshape(-1,1).int())"
   ]
  },
  {
   "cell_type": "code",
   "execution_count": 72,
   "metadata": {},
   "outputs": [
    {
     "data": {
      "text/plain": [
       "tensor([20.], dtype=torch.float64)"
      ]
     },
     "execution_count": 72,
     "metadata": {},
     "output_type": "execute_result"
    }
   ],
   "source": [
    "data_y.reshape(-1,1)[91815]"
   ]
  },
  {
   "cell_type": "code",
   "execution_count": 74,
   "metadata": {},
   "outputs": [
    {
     "data": {
      "text/plain": [
       "tensor([312932], dtype=torch.int32)"
      ]
     },
     "execution_count": 74,
     "metadata": {},
     "output_type": "execute_result"
    }
   ],
   "source": [
    "model.sample(data_X).reshape(-1,1).int()[91669]"
   ]
  },
  {
   "cell_type": "code",
   "execution_count": 108,
   "metadata": {},
   "outputs": [
    {
     "data": {
      "text/plain": [
       "torch.Size([607, 2, 256])"
      ]
     },
     "execution_count": 108,
     "metadata": {},
     "output_type": "execute_result"
    }
   ],
   "source": [
    "log_pi, mu, sigma = model.forward(data_X)\n",
    "pi = torch.exp (log_pi)\n",
    "mu.shape"
   ]
  },
  {
   "cell_type": "code",
   "execution_count": 109,
   "metadata": {},
   "outputs": [
    {
     "name": "stdout",
     "output_type": "stream",
     "text": [
      "torch.Size([607, 2, 1])\n"
     ]
    },
    {
     "data": {
      "text/plain": [
       "tensor(-0.4052, dtype=torch.float64, grad_fn=<MinBackward1>)"
      ]
     },
     "execution_count": 109,
     "metadata": {},
     "output_type": "execute_result"
    }
   ],
   "source": [
    "import torch\n",
    "\n",
    "# Define the original matrix\n",
    "\n",
    "\n",
    "# Add a third dimension\n",
    "expanded_matrix = torch.unsqueeze(pi, dim=2)\n",
    "print(expanded_matrix.shape)\n",
    "# Repeat the matrix along the third dimension\n",
    "final_matrix = expanded_matrix.repeat(1,1,256)\n",
    "\n",
    "# Print the final matrix\n",
    "torch.min(torch.sum(final_matrix * mu,axis = 1))\n"
   ]
  },
  {
   "cell_type": "code",
   "execution_count": 112,
   "metadata": {},
   "outputs": [
    {
     "data": {
      "text/plain": [
       "torch.Size([607, 2, 256])"
      ]
     },
     "execution_count": 112,
     "metadata": {},
     "output_type": "execute_result"
    }
   ],
   "source": []
  },
  {
   "cell_type": "code",
   "execution_count": 70,
   "metadata": {},
   "outputs": [
    {
     "name": "stdout",
     "output_type": "stream",
     "text": [
      "torch.Size([512, 1])\n",
      "torch.Size([512, 1])\n"
     ]
    },
    {
     "data": {
      "image/png": "[encoded data removed]",
      "text/plain": [
       "<Figure size 800x300 with 2 Axes>"
      ]
     },
     "metadata": {},
     "output_type": "display_data"
    }
   ],
   "source": [
    "\n",
    "\n",
    "from matplotlib import pyplot as plt\n",
    "import numpy as np\n",
    "import torch\n",
    "import torch.optim as optim\n",
    "\n",
    "\n",
    "\n",
    "\n",
    "def gen_data(n=512):\n",
    "    y = np.linspace(-1, 1, n)\n",
    "    x = 7 * np.sin(5 * y) + 0.5 * y + 0.5 * np.random.randn(*y.shape)\n",
    "    return x[:,np.newaxis], y[:,np.newaxis]\n",
    "\n",
    "def plot_data(x, y):\n",
    "    plt.hist2d(x, y, bins=35)\n",
    "    plt.xlim(-8, 8)\n",
    "    plt.ylim(-1, 1)\n",
    "    plt.axis('off')\n",
    "\n",
    "\n",
    "if __name__ == \"__main__\":\n",
    "\n",
    "    \n",
    "\n",
    "    x, y = gen_data()\n",
    "    x = torch.Tensor(x)\n",
    "    y = torch.Tensor(y)\n",
    "    print(x.shape)\n",
    "    print(y.shape)\n",
    "    model = MixtureDensityNetwork(1, 1, n_components=3, hidden_dim=50, noise_type=NoiseType.DIAGONAL)\n",
    "    optimizer = optim.Adam(model.parameters(), lr=0.005)\n",
    "    scheduler = optim.lr_scheduler.CosineAnnealingLR(optimizer, 30)\n",
    "\n",
    "    for i in range(1):\n",
    "        optimizer.zero_grad()\n",
    "        loss = model.loss(x, y).mean()\n",
    "        loss.backward()\n",
    "        optimizer.step()\n",
    "        scheduler.step()\n",
    "       \n",
    "    with torch.no_grad():\n",
    "        y_hat = model.sample(x)\n",
    "\n",
    "    plt.figure(figsize=(8, 3))\n",
    "    plt.subplot(1, 2, 1)\n",
    "    plot_data(x[:, 0].numpy(), y[:, 0].numpy())\n",
    "    plt.title(\"Observed data\")\n",
    "    plt.subplot(1, 2, 2)\n",
    "    plot_data(x[:, 0].numpy(), y_hat[:, 0].numpy())\n",
    "    plt.title(\"Sampled data\")\n",
    "    plt.show()"
   ]
  },
  {
   "cell_type": "code",
   "execution_count": null,
   "metadata": {},
   "outputs": [],
   "source": []
  }
 ],
 "metadata": {
  "kernelspec": {
   "display_name": "DLML",
   "language": "python",
   "name": "python3"
  },
  "language_info": {
   "codemirror_mode": {
    "name": "ipython",
    "version": 3
   },
   "file_extension": ".py",
   "mimetype": "text/x-python",
   "name": "python",
   "nbconvert_exporter": "python",
   "pygments_lexer": "ipython3",
   "version": "3.9.7"
  },
  "orig_nbformat": 4
 },
 "nbformat": 4,
 "nbformat_minor": 2
}
