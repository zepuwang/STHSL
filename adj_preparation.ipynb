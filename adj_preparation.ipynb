{
 "cells": [
  {
   "cell_type": "code",
   "execution_count": 1,
   "metadata": {},
   "outputs": [],
   "source": [
    "import numpy as np\n",
    "import pandas as pd\n"
   ]
  },
  {
   "cell_type": "code",
   "execution_count": 78,
   "metadata": {},
   "outputs": [],
   "source": [
    "data = np.load('/Users/pipipu/Desktop/STHSL/Datasets/NYC_crime/trn.pkl',allow_pickle = True)"
   ]
  },
  {
   "cell_type": "code",
   "execution_count": null,
   "metadata": {},
   "outputs": [],
   "source": []
  },
  {
   "cell_type": "code",
   "execution_count": 11,
   "metadata": {},
   "outputs": [],
   "source": [
    "CHI_adj = np.zeros((14,12))"
   ]
  },
  {
   "cell_type": "code",
   "execution_count": 79,
   "metadata": {},
   "outputs": [
    {
     "data": {
      "text/plain": [
       "(16, 16, 608, 4)"
      ]
     },
     "execution_count": 79,
     "metadata": {},
     "output_type": "execute_result"
    }
   ],
   "source": [
    "data.shape"
   ]
  },
  {
   "cell_type": "code",
   "execution_count": 12,
   "metadata": {},
   "outputs": [
    {
     "data": {
      "text/plain": [
       "(14, 12)"
      ]
     },
     "execution_count": 12,
     "metadata": {},
     "output_type": "execute_result"
    }
   ],
   "source": [
    "CHI_adj.shape"
   ]
  },
  {
   "cell_type": "code",
   "execution_count": 80,
   "metadata": {},
   "outputs": [],
   "source": [
    "row = 16\n",
    "column = 16\n",
    "value = 1\n",
    "adj = np.zeros((row * column, row * column))\n",
    "for i in range(0,row):\n",
    "    for j in range(0,column):\n",
    "        index = i * column + j\n",
    "        \n",
    "        index_1 = (i-1) * column + j\n",
    "        index_2 = (i+1) * column + j\n",
    "        index_3 = i * column + j-1\n",
    "        index_4 = i * column + j + 1\n",
    "\n",
    "  \n",
    "        if 0 <= index_1 < row * column:\n",
    "            adj[index,index_1] = value\n",
    "            adj[index_1,index] = value\n",
    "        if 0 <= index_2 < row * column:\n",
    "            adj[index,index_2] = value\n",
    "            adj[index_2,index] = value\n",
    "        if 0 <= index_3 < row * column:\n",
    "            adj[index,index_3] = value\n",
    "            adj[index_3,index] = value\n",
    "        if 0 <= index_4 < row * column:\n",
    "            adj[index,index_4] = value\n",
    "            adj[index_4,index] = value\n",
    "        adj[index,index] = 1\n",
    "\n",
    "\n",
    "\n",
    "\n"
   ]
  },
  {
   "cell_type": "code",
   "execution_count": 81,
   "metadata": {},
   "outputs": [
    {
     "data": {
      "text/plain": [
       "array([[1., 1., 0., ..., 0., 0., 0.],\n",
       "       [1., 1., 1., ..., 0., 0., 0.],\n",
       "       [0., 1., 1., ..., 0., 0., 0.],\n",
       "       ...,\n",
       "       [0., 0., 0., ..., 1., 1., 0.],\n",
       "       [0., 0., 0., ..., 1., 1., 1.],\n",
       "       [0., 0., 0., ..., 0., 1., 1.]])"
      ]
     },
     "execution_count": 81,
     "metadata": {},
     "output_type": "execute_result"
    }
   ],
   "source": [
    "adj"
   ]
  },
  {
   "cell_type": "code",
   "execution_count": 82,
   "metadata": {},
   "outputs": [],
   "source": [
    "np.save('/Users/pipipu/Desktop/STHSL/Datasets/NYC_crime/LA_adj.npy',adj)"
   ]
  },
  {
   "cell_type": "code",
   "execution_count": 66,
   "metadata": {},
   "outputs": [
    {
     "name": "stdout",
     "output_type": "stream",
     "text": [
      "1\n",
      "[1]\n",
      "2\n",
      "[2]\n",
      "3\n",
      "[3]\n",
      "4\n",
      "[4]\n",
      "5\n",
      "[5]\n",
      "6\n",
      "[6]\n",
      "7\n",
      "[7]\n",
      "8\n",
      "[8]\n",
      "9\n",
      "[9]\n"
     ]
    }
   ],
   "source": [
    "for i in range(3):\n",
    "    for j in range(3):\n",
    "        print(A[i][j])\n",
    "        print(B[i*3+j])"
   ]
  },
  {
   "cell_type": "code",
   "execution_count": 69,
   "metadata": {},
   "outputs": [],
   "source": [
    "\n",
    "def reshape(data):\n",
    "    row,column,time,cat = data.shape\n",
    "    data_reshape = np.zeros((row*column, time, cat))\n",
    "    for i in range(row):\n",
    "        for j in range(column):\n",
    "            data_reshape[i*column+j,:,:] = data[i,j,:,:]\n",
    "    return data_reshape"
   ]
  },
  {
   "cell_type": "code",
   "execution_count": 74,
   "metadata": {},
   "outputs": [
    {
     "data": {
      "text/plain": [
       "(168, 609, 4)"
      ]
     },
     "execution_count": 74,
     "metadata": {},
     "output_type": "execute_result"
    }
   ],
   "source": [
    " x"
   ]
  },
  {
   "cell_type": "code",
   "execution_count": null,
   "metadata": {},
   "outputs": [],
   "source": []
  }
 ],
 "metadata": {
  "kernelspec": {
   "display_name": "DLML",
   "language": "python",
   "name": "python3"
  },
  "language_info": {
   "codemirror_mode": {
    "name": "ipython",
    "version": 3
   },
   "file_extension": ".py",
   "mimetype": "text/x-python",
   "name": "python",
   "nbconvert_exporter": "python",
   "pygments_lexer": "ipython3",
   "version": "3.9.7"
  },
  "orig_nbformat": 4
 },
 "nbformat": 4,
 "nbformat_minor": 2
}
